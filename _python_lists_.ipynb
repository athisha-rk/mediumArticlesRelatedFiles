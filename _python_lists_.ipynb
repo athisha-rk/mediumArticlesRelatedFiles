{
  "nbformat": 4,
  "nbformat_minor": 0,
  "metadata": {
    "colab": {
      "name": "_python_lists_.ipynb",
      "provenance": [],
      "collapsed_sections": []
    },
    "kernelspec": {
      "name": "python3",
      "display_name": "Python 3"
    }
  },
  "cells": [
    {
      "cell_type": "markdown",
      "metadata": {
        "id": "fZjsWpaFygz2"
      },
      "source": [
        "# **Python Lists**"
      ]
    },
    {
      "cell_type": "markdown",
      "metadata": {
        "id": "lCyEI5dJythi"
      },
      "source": [
        "\r\n",
        "\r\n",
        "* A list is a collection of data items of different data types (such as int, float, string, etc.). A array can store only homogeneous elements.\r\n",
        "* A list is indexed from 0."
      ]
    },
    {
      "cell_type": "code",
      "metadata": {
        "colab": {
          "base_uri": "https://localhost:8080/"
        },
        "id": "FuiiHqQtRbCb",
        "outputId": "9247e6c6-c235-4d32-bc9c-1fcce852d266"
      },
      "source": [
        "#Few Examples...\r\n",
        "print(['Orange','Lemon','Watermelon','Apple'])\r\n",
        "print([])\r\n",
        "print(['Windows',250,0.28,['OS','Microsoft']])"
      ],
      "execution_count": 145,
      "outputs": [
        {
          "output_type": "stream",
          "text": [
            "['Orange', 'Lemon', 'Watermelon', 'Apple']\n",
            "[]\n",
            "['Windows', 250, 0.28, ['OS', 'Microsoft']]\n"
          ],
          "name": "stdout"
        }
      ]
    },
    {
      "cell_type": "code",
      "metadata": {
        "colab": {
          "base_uri": "https://localhost:8080/"
        },
        "id": "tRIhkFQwS7SP",
        "outputId": "9e7c8720-0c65-4e21-864a-48280e8d4cd9"
      },
      "source": [
        "#List Indexing\r\n",
        "zoo=['Tiger','Lion','Deer','Elephant']\r\n",
        "print(zoo[3])\r\n",
        "print(zoo[1])\r\n",
        "print(zoo)"
      ],
      "execution_count": 146,
      "outputs": [
        {
          "output_type": "stream",
          "text": [
            "Elephant\n",
            "Lion\n",
            "['Tiger', 'Lion', 'Deer', 'Elephant']\n"
          ],
          "name": "stdout"
        }
      ]
    },
    {
      "cell_type": "code",
      "metadata": {
        "colab": {
          "base_uri": "https://localhost:8080/"
        },
        "id": "goJTEgOgyMmT",
        "outputId": "3307f710-b1ec-41d2-ad23-56ba720d7f1b"
      },
      "source": [
        "#Create a list\r\n",
        "animals=[]\r\n",
        "dogs=[\"Doberman\"]\r\n",
        "print(\"Animals:\",animals)\r\n",
        "print(\"Dogs:\",dogs)"
      ],
      "execution_count": null,
      "outputs": [
        {
          "output_type": "stream",
          "text": [
            "Animals: []\n",
            "Dogs: ['Doberman']\n"
          ],
          "name": "stdout"
        }
      ]
    },
    {
      "cell_type": "code",
      "metadata": {
        "colab": {
          "base_uri": "https://localhost:8080/"
        },
        "id": "2mOuZfGR2N7C",
        "outputId": "bbaad0d3-d78c-4748-acfc-add6e821db84"
      },
      "source": [
        "#Add an element to the end of the list\r\n",
        "animals.append(\"Elephant\")\r\n",
        "print(\"Animals:\",animals)\r\n",
        "\r\n",
        "dogs.append(\"Akita\")\r\n",
        "print(\"Dogs:\",dogs)"
      ],
      "execution_count": null,
      "outputs": [
        {
          "output_type": "stream",
          "text": [
            "Animals: ['Elephant']\n",
            "Dogs: ['Doberman', 'Akita']\n"
          ],
          "name": "stdout"
        }
      ]
    },
    {
      "cell_type": "code",
      "metadata": {
        "colab": {
          "base_uri": "https://localhost:8080/"
        },
        "id": "EJfh561N2uBx",
        "outputId": "35ace53a-30f0-4e99-b473-f791a82dfde4"
      },
      "source": [
        "#Adding some more elements\r\n",
        "for i in range(4):\r\n",
        "  animals.append(input(\"Enter animal:\"))"
      ],
      "execution_count": null,
      "outputs": [
        {
          "output_type": "stream",
          "text": [
            "Enter animal:Lion\n",
            "Enter animal:Dog\n",
            "Enter animal:Deer\n",
            "Enter animal:Cat\n"
          ],
          "name": "stdout"
        }
      ]
    },
    {
      "cell_type": "code",
      "metadata": {
        "colab": {
          "base_uri": "https://localhost:8080/"
        },
        "id": "IXJJuh853gKE",
        "outputId": "02afecfa-9e02-491b-9ff3-9af8d2eec6a2"
      },
      "source": [
        "#Adding some more elements\r\n",
        "for i in range(2):\r\n",
        "  dogs.append(input(\"Enter dog breed:\"))"
      ],
      "execution_count": null,
      "outputs": [
        {
          "output_type": "stream",
          "text": [
            "Enter dog breed:Corgi\n",
            "Enter dog breed:Tibetan Mastiff\n"
          ],
          "name": "stdout"
        }
      ]
    },
    {
      "cell_type": "code",
      "metadata": {
        "colab": {
          "base_uri": "https://localhost:8080/"
        },
        "id": "oMC2wSTb4bAv",
        "outputId": "a7a3e1d5-ff1e-4a16-cd22-a9f656eebb75"
      },
      "source": [
        "#Lists content so far...\r\n",
        "print(\"Animals:\",animals)\r\n",
        "print(\"Dogs:\",dogs)"
      ],
      "execution_count": null,
      "outputs": [
        {
          "output_type": "stream",
          "text": [
            "Animals: ['Elephant', 'Lion', 'Dog', 'Deer', 'Cat']\n",
            "Dogs: ['Doberman', 'Akita', 'Corgi', 'Tibetan Mastiff']\n"
          ],
          "name": "stdout"
        }
      ]
    },
    {
      "cell_type": "code",
      "metadata": {
        "colab": {
          "base_uri": "https://localhost:8080/"
        },
        "id": "UTkrVxi24hrv",
        "outputId": "f4dc5019-5f71-4dab-ab63-f0bb4eed9eb4"
      },
      "source": [
        "#Number of elements in the list\r\n",
        "print(\"Animals Size:\",len(animals))\r\n",
        "print(\"Dogs Size:\",len(dogs))"
      ],
      "execution_count": null,
      "outputs": [
        {
          "output_type": "stream",
          "text": [
            "Animals Size: 5\n",
            "Dogs Size: 4\n"
          ],
          "name": "stdout"
        }
      ]
    },
    {
      "cell_type": "code",
      "metadata": {
        "colab": {
          "base_uri": "https://localhost:8080/"
        },
        "id": "ku_seg0H4yVw",
        "outputId": "ff7f96a2-4e4d-43ec-eb4c-a8e84a39b9ef"
      },
      "source": [
        "#Remove last element - pop()\r\n",
        "print(\"Animals Content Before:\",animals)\r\n",
        "print(\"Element Removed from Animals:\",animals.pop())\r\n",
        "print(\"Animals Content After:\",animals)"
      ],
      "execution_count": null,
      "outputs": [
        {
          "output_type": "stream",
          "text": [
            "Animals Content Before: ['Elephant', 'Lion', 'Dog', 'Deer', 'Cat']\n",
            "Element Removed from Animals: Cat\n",
            "Animals Content After: ['Elephant', 'Lion', 'Dog', 'Deer']\n"
          ],
          "name": "stdout"
        }
      ]
    },
    {
      "cell_type": "code",
      "metadata": {
        "colab": {
          "base_uri": "https://localhost:8080/"
        },
        "id": "y3AbIXt95tpm",
        "outputId": "7077e282-a421-49c7-9574-f824994080ca"
      },
      "source": [
        "#Remove element at index i - pop(i)\r\n",
        "print(\"Dogs Content Before:\",dogs)\r\n",
        "print(\"Element Removed from Dogs:\",dogs.pop(2))\r\n",
        "print(\"Dogs Content After:\",dogs)"
      ],
      "execution_count": null,
      "outputs": [
        {
          "output_type": "stream",
          "text": [
            "Dogs Content Before: ['Doberman', 'Akita', 'Corgi', 'Tibetan Mastiff']\n",
            "Element Removed from Dogs: Corgi\n",
            "Dogs Content After: ['Doberman', 'Akita', 'Tibetan Mastiff']\n"
          ],
          "name": "stdout"
        }
      ]
    },
    {
      "cell_type": "code",
      "metadata": {
        "colab": {
          "base_uri": "https://localhost:8080/"
        },
        "id": "SYcUrpVF6CSN",
        "outputId": "d0d973c4-424d-4f38-8d5e-f03d461005bc"
      },
      "source": [
        "#remove('element')\r\n",
        "print(\"Animals Content Before:\",animals)\r\n",
        "animals.remove('Dog')\r\n",
        "print(\"Animals Content After:\",animals)"
      ],
      "execution_count": null,
      "outputs": [
        {
          "output_type": "stream",
          "text": [
            "Animals Content Before: ['Elephant', 'Lion', 'Dog', 'Deer']\n",
            "Animals Content After: ['Elephant', 'Lion', 'Deer']\n"
          ],
          "name": "stdout"
        }
      ]
    },
    {
      "cell_type": "code",
      "metadata": {
        "colab": {
          "base_uri": "https://localhost:8080/"
        },
        "id": "yjzocInB7Y2r",
        "outputId": "20148599-bdc7-4461-fa6d-7df1a82929a8"
      },
      "source": [
        "#Insert elements into the list using insert()\r\n",
        "print(\"Animals Before:\",animals)\r\n",
        "animals.insert(2,'Elephant')\r\n",
        "print(\"Animals After:\",animals)"
      ],
      "execution_count": null,
      "outputs": [
        {
          "output_type": "stream",
          "text": [
            "Animals Before: ['Elephant', 'Lion', 'Deer']\n",
            "Animals After: ['Elephant', 'Lion', 'Elephant', 'Deer']\n"
          ],
          "name": "stdout"
        }
      ]
    },
    {
      "cell_type": "code",
      "metadata": {
        "colab": {
          "base_uri": "https://localhost:8080/"
        },
        "id": "Ub_pJX-V8Hw4",
        "outputId": "be385d15-d56b-403f-c1cf-26b29be20cb3"
      },
      "source": [
        "#Count the number of occurences of an element in a list\r\n",
        "print(animals)\r\n",
        "print(\"Count of Elephant:\",animals.count('Elephant'))\r\n",
        "print(\"Count of Lion:\",animals.count('Lion'))"
      ],
      "execution_count": null,
      "outputs": [
        {
          "output_type": "stream",
          "text": [
            "['Elephant', 'Lion', 'Elephant', 'Deer']\n",
            "Count of Elephant: 2\n",
            "Count of Lion: 1\n"
          ],
          "name": "stdout"
        }
      ]
    },
    {
      "cell_type": "code",
      "metadata": {
        "colab": {
          "base_uri": "https://localhost:8080/"
        },
        "id": "K9FAcCo48doL",
        "outputId": "4427bf7a-8380-4bc9-9a14-eefa70770ab3"
      },
      "source": [
        "#Sort a list - sort()\r\n",
        "numbers=[4,1,5,2,0,0,8,2,3,-6,-4]\r\n",
        "numbers.sort()\r\n",
        "print(numbers)\r\n",
        "\r\n",
        "print(\"Dogs Before:\",dogs)\r\n",
        "dogs.sort()\r\n",
        "print(\"Dogs After:\",dogs)"
      ],
      "execution_count": null,
      "outputs": [
        {
          "output_type": "stream",
          "text": [
            "[-6, -4, 0, 0, 1, 2, 2, 3, 4, 5, 8]\n",
            "Dogs Before: ['Doberman', 'Akita', 'Tibetan Mastiff']\n",
            "Dogs After: ['Akita', 'Doberman', 'Tibetan Mastiff']\n"
          ],
          "name": "stdout"
        }
      ]
    },
    {
      "cell_type": "code",
      "metadata": {
        "colab": {
          "base_uri": "https://localhost:8080/"
        },
        "id": "_s0MSGQV8u2B",
        "outputId": "ed538523-53f3-4c7c-f813-10625a4bda07"
      },
      "source": [
        "#Finding the index of an element in a list - index()\r\n",
        "print(animals)\r\n",
        "print(\"Index of Lion:\",animals.index('Lion'))\r\n",
        "print(\"Index of Elephant:\",animals.index('Elephant'))#index of first occurence"
      ],
      "execution_count": null,
      "outputs": [
        {
          "output_type": "stream",
          "text": [
            "['Elephant', 'Lion', 'Elephant', 'Deer']\n",
            "Index of Lion: 1\n",
            "Index of Elephant: 0\n"
          ],
          "name": "stdout"
        }
      ]
    },
    {
      "cell_type": "code",
      "metadata": {
        "colab": {
          "base_uri": "https://localhost:8080/"
        },
        "id": "ktm2BGnaA13m",
        "outputId": "ffb885b7-c8b3-4496-ed7b-91e9ad866a01"
      },
      "source": [
        "#Reverse a List\r\n",
        "print(\"Animals Before:\",animals)\r\n",
        "animals.reverse()\r\n",
        "print(\"Animals After:\",animals)"
      ],
      "execution_count": null,
      "outputs": [
        {
          "output_type": "stream",
          "text": [
            "Animals Before: ['Elephant', 'Lion', 'Elephant', 'Deer']\n",
            "Animals After: ['Deer', 'Elephant', 'Lion', 'Elephant']\n"
          ],
          "name": "stdout"
        }
      ]
    },
    {
      "cell_type": "code",
      "metadata": {
        "colab": {
          "base_uri": "https://localhost:8080/"
        },
        "id": "Adw4ndo2BUQf",
        "outputId": "7fe8e47f-e7f8-46c1-a38f-13cad231c5fc"
      },
      "source": [
        "#append another list to an existing list - extend()\r\n",
        "print(\"Animals Before:\",animals)\r\n",
        "animals.extend(dogs)\r\n",
        "print(\"Animals After:\",animals)"
      ],
      "execution_count": null,
      "outputs": [
        {
          "output_type": "stream",
          "text": [
            "Animals Before: ['Deer', 'Elephant', 'Lion', 'Elephant']\n",
            "Animals After: ['Deer', 'Elephant', 'Lion', 'Elephant', 'Akita', 'Doberman', 'Tibetan Mastiff']\n"
          ],
          "name": "stdout"
        }
      ]
    },
    {
      "cell_type": "code",
      "metadata": {
        "colab": {
          "base_uri": "https://localhost:8080/"
        },
        "id": "m791bl2W6HdC",
        "outputId": "531d278f-af4b-486b-d13d-6c31b68afed3"
      },
      "source": [
        "#Different Functions and Variables associated with List\r\n",
        "dir([])"
      ],
      "execution_count": 158,
      "outputs": [
        {
          "output_type": "execute_result",
          "data": {
            "text/plain": [
              "['__add__',\n",
              " '__class__',\n",
              " '__contains__',\n",
              " '__delattr__',\n",
              " '__delitem__',\n",
              " '__dir__',\n",
              " '__doc__',\n",
              " '__eq__',\n",
              " '__format__',\n",
              " '__ge__',\n",
              " '__getattribute__',\n",
              " '__getitem__',\n",
              " '__gt__',\n",
              " '__hash__',\n",
              " '__iadd__',\n",
              " '__imul__',\n",
              " '__init__',\n",
              " '__init_subclass__',\n",
              " '__iter__',\n",
              " '__le__',\n",
              " '__len__',\n",
              " '__lt__',\n",
              " '__mul__',\n",
              " '__ne__',\n",
              " '__new__',\n",
              " '__reduce__',\n",
              " '__reduce_ex__',\n",
              " '__repr__',\n",
              " '__reversed__',\n",
              " '__rmul__',\n",
              " '__setattr__',\n",
              " '__setitem__',\n",
              " '__sizeof__',\n",
              " '__str__',\n",
              " '__subclasshook__',\n",
              " 'append',\n",
              " 'clear',\n",
              " 'copy',\n",
              " 'count',\n",
              " 'extend',\n",
              " 'index',\n",
              " 'insert',\n",
              " 'pop',\n",
              " 'remove',\n",
              " 'reverse',\n",
              " 'sort']"
            ]
          },
          "metadata": {
            "tags": []
          },
          "execution_count": 158
        }
      ]
    },
    {
      "cell_type": "code",
      "metadata": {
        "colab": {
          "base_uri": "https://localhost:8080/"
        },
        "id": "QMK4VpxqqQaG",
        "outputId": "aa277ec7-ddfd-4964-a645-3bb955714d19"
      },
      "source": [
        "len(dir([]))"
      ],
      "execution_count": 159,
      "outputs": [
        {
          "output_type": "execute_result",
          "data": {
            "text/plain": [
              "46"
            ]
          },
          "metadata": {
            "tags": []
          },
          "execution_count": 159
        }
      ]
    },
    {
      "cell_type": "markdown",
      "metadata": {
        "id": "_Yqsuhhe-PWS"
      },
      "source": [
        "**Lists Summary**\r\n",
        "* \\[ \\]          - Create a List\r\n",
        "* append()       - appends an element to the end\r\n",
        "* len()          - length of the list\r\n",
        "* pop(i)         - remove element at ith index\r\n",
        "* pop()          - remove last element\r\n",
        "* remove(\"ele\")  - remove element \"ele\"\r\n",
        "* insert(i,\"ele\")- insert element \"ele\" at index i\r\n",
        "* count(\"ele\")   - counts the number of occurences of element \"ele\"\r\n",
        "* sort()         - sorts the list\r\n",
        "* index(\"ele\")   - returns the index of \"ele\" \r\n",
        "* reverse()      - reverses the list\r\n",
        "* extend()       - append another list to an existing list\r\n"
      ]
    },
    {
      "cell_type": "markdown",
      "metadata": {
        "id": "pfVF-r_iisEk"
      },
      "source": [
        "### **1.How will index( ) and remove ( ) behave when the element occurs more than once?**\r\n",
        "\r\n",
        "* index( ) - index of the first occurence of the element is returned.\r\n",
        "* remove( ) - the first occurence of the element is removed."
      ]
    },
    {
      "cell_type": "code",
      "metadata": {
        "id": "WY3CBK9u-VOm",
        "colab": {
          "base_uri": "https://localhost:8080/"
        },
        "outputId": "f1825e16-5fc0-45f9-bd28-99776136a8ee"
      },
      "source": [
        "places=['zoo','airport','cafe','office','airport','bookstore']\r\n",
        "print(\"Places Before:\",places)\r\n",
        "print(\"Index of 'airport':\",places.index('airport'))\r\n",
        "places.remove('airport')\r\n",
        "print(\"Places after 'airport' is removed:\",places)"
      ],
      "execution_count": 151,
      "outputs": [
        {
          "output_type": "stream",
          "text": [
            "Places Before: ['zoo', 'airport', 'cafe', 'office', 'airport', 'bookstore']\n",
            "Index of 'airport': 1\n",
            "Places after 'airport' is removed: ['zoo', 'cafe', 'office', 'airport', 'bookstore']\n"
          ],
          "name": "stdout"
        }
      ]
    },
    {
      "cell_type": "markdown",
      "metadata": {
        "id": "_Kh23cv2kvOV"
      },
      "source": [
        "### **2.How to sort a list in non-increasing(or descending) order?**\r\n",
        "\r\n",
        "* By default, elements are sorted in increasing (or ascending) order. \r\n",
        "* When reverse = True, the elements are sorted in decreasing (or descending) order."
      ]
    },
    {
      "cell_type": "code",
      "metadata": {
        "colab": {
          "base_uri": "https://localhost:8080/"
        },
        "id": "ROlbnTWQk0hI",
        "outputId": "1e8d8e6c-28f9-49f8-9d13-1cc1293843fc"
      },
      "source": [
        "marks=[25,50,64,31,80,41,98,23]\r\n",
        "print(\"Marks Before:\",marks)\r\n",
        "marks.sort(reverse=True)\r\n",
        "print(\"Marks After:\",marks)"
      ],
      "execution_count": 152,
      "outputs": [
        {
          "output_type": "stream",
          "text": [
            "Marks Before: [25, 50, 64, 31, 80, 41, 98, 23]\n",
            "Marks After: [98, 80, 64, 50, 41, 31, 25, 23]\n"
          ],
          "name": "stdout"
        }
      ]
    },
    {
      "cell_type": "markdown",
      "metadata": {
        "id": "9hXQFODlm6r-"
      },
      "source": [
        "### **Sample Exercise: Kth Smallest element**\r\n",
        "Given an array arr[] and a number K where K is smaller than size of array, the task is to find the Kth smallest element in the given array. It is given that all array elements are distinct.\r\n",
        "### **Solution**\r\n",
        "In python we can solve this question using lists also. The idea is to sort the list in increasing order and then return arr[k] as the answer."
      ]
    },
    {
      "cell_type": "code",
      "metadata": {
        "id": "B7Kd2it6lEMa"
      },
      "source": [
        "#Answer\r\n",
        "def kthSmallest(arr, l, r, k):\r\n",
        "    '''\r\n",
        "    arr : given array\r\n",
        "    l : starting index of the array i.e 0\r\n",
        "    r : ending index of the array i.e size-1\r\n",
        "    k : find kth smallest element and return using this function\r\n",
        "    '''\r\n",
        "    if(k>r or k<l):\r\n",
        "        return -1\r\n",
        "    arr.sort(reverse=False)\r\n",
        "    return arr[k]"
      ],
      "execution_count": 155,
      "outputs": []
    },
    {
      "cell_type": "code",
      "metadata": {
        "colab": {
          "base_uri": "https://localhost:8080/"
        },
        "id": "zmynclHbn-5v",
        "outputId": "84dcd2f7-7f94-486d-a2e1-d25643159384"
      },
      "source": [
        "#Input 1\r\n",
        "kthSmallest([7, 10, 4, 3, 20, 15],0,5,2)"
      ],
      "execution_count": 156,
      "outputs": [
        {
          "output_type": "execute_result",
          "data": {
            "text/plain": [
              "7"
            ]
          },
          "metadata": {
            "tags": []
          },
          "execution_count": 156
        }
      ]
    },
    {
      "cell_type": "code",
      "metadata": {
        "colab": {
          "base_uri": "https://localhost:8080/"
        },
        "id": "ofO8sgS4oQuU",
        "outputId": "facca1f0-47b0-464b-8413-3aa5ec7c5d98"
      },
      "source": [
        "#Input 2\r\n",
        "arr=[7, 10, 4, 20, 15]\r\n",
        "l=0; r=len(arr)-1; k=3;\r\n",
        "kthSmallest(arr,l,r,k)"
      ],
      "execution_count": 157,
      "outputs": [
        {
          "output_type": "execute_result",
          "data": {
            "text/plain": [
              "15"
            ]
          },
          "metadata": {
            "tags": []
          },
          "execution_count": 157
        }
      ]
    },
    {
      "cell_type": "code",
      "metadata": {
        "id": "ZBtO7oAToous"
      },
      "source": [
        ""
      ],
      "execution_count": null,
      "outputs": []
    }
  ]
}