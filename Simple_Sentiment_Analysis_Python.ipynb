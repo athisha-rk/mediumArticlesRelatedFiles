{
  "nbformat": 4,
  "nbformat_minor": 0,
  "metadata": {
    "colab": {
      "name": "Simple Sentiment Analysis - Python.ipynb",
      "provenance": []
    },
    "kernelspec": {
      "name": "python3",
      "display_name": "Python 3"
    },
    "language_info": {
      "name": "python"
    }
  },
  "cells": [
    {
      "cell_type": "markdown",
      "metadata": {
        "id": "qBOK4Em9ySF7"
      },
      "source": [
        "# **Simple Sentiment Analysis**\n",
        "\n",
        "The main objective of Sentiment Analysis is to measure the inclination of people's opinions. It majorly uses Natural Language Processing(NLP), Computational Linguistics, and Text Analysis. \n",
        "\n",
        "It is widely used to categorize customer reviews as positive or negative reviews. For example, \n",
        "\n",
        "![image.png](data:image/png;base64,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)"
      ]
    },
    {
      "cell_type": "markdown",
      "metadata": {
        "id": "Jjh17WGc-Krx"
      },
      "source": [
        "#### **Contents**\n",
        "\n",
        "1. Setup Kaggle on Colab Notebook\n",
        "2. Download Required Libraries\n",
        "3. Required Libraries\n",
        "4. Read Dataset\n",
        "5. Dataset Overview\n",
        "6. Prepare Dataset\n",
        "7. A Quick Example using VADER\n",
        "8. For All Reviews\n",
        "9. Append Results to Reviews Dataframe\n",
        "10. Assigning Sentiment Tag\n",
        "11. Final Result\n",
        "12. Download Results as CSV File "
      ]
    },
    {
      "cell_type": "markdown",
      "metadata": {
        "id": "caEMPG4tyjkk"
      },
      "source": [
        "### **Setup Kaggle on Colab Notebook**\n",
        "Reference: https://www.kaggle.com/general/74235 "
      ]
    },
    {
      "cell_type": "code",
      "metadata": {
        "id": "b7f8sUaJx1zr"
      },
      "source": [
        "!pip install -q kaggle\n",
        "from google.colab import files \n",
        "files.upload()"
      ],
      "execution_count": null,
      "outputs": []
    },
    {
      "cell_type": "code",
      "metadata": {
        "colab": {
          "base_uri": "https://localhost:8080/"
        },
        "id": "Cum6atppzNyY",
        "outputId": "23e43b45-db67-4db6-a1a2-afdf1e04ace4"
      },
      "source": [
        "!mkdir ~/.kaggle\n",
        "!cp kaggle.json ~/.kaggle/\n",
        "!chmod 600 ~/.kaggle/kaggle.json\n",
        "!kaggle datasets list"
      ],
      "execution_count": 2,
      "outputs": [
        {
          "output_type": "stream",
          "text": [
            "Warning: Looks like you're using an outdated API Version, please consider updating (server 1.5.12 / client 1.5.4)\n",
            "ref                                                         title                                              size  lastUpdated          downloadCount  \n",
            "----------------------------------------------------------  ------------------------------------------------  -----  -------------------  -------------  \n",
            "gpreda/reddit-vaccine-myths                                 Reddit Vaccine Myths                              234KB  2021-07-30 09:11:59           9955  \n",
            "crowww/a-large-scale-fish-dataset                           A Large Scale Fish Dataset                          3GB  2021-04-28 17:03:01           6105  \n",
            "imsparsh/musicnet-dataset                                   MusicNet Dataset                                   22GB  2021-02-18 14:12:19           2269  \n",
            "dhruvildave/wikibooks-dataset                               Wikibooks Dataset                                   2GB  2021-07-03 18:37:20           2522  \n",
            "fatiimaezzahra/famous-iconic-women                          Famous Iconic Women                               838MB  2021-02-28 14:56:00           1035  \n",
            "promptcloud/careerbuilder-job-listing-2020                  Careerbuilder Job Listing 2020                     42MB  2021-03-05 06:59:52           1464  \n",
            "nickuzmenkov/nih-chest-xrays-tfrecords                      NIH Chest X-rays TFRecords                         11GB  2021-03-09 04:49:23            843  \n",
            "alsgroup/end-als                                            End ALS Kaggle Challenge                           12GB  2021-04-08 12:16:37            813  \n",
            "coloradokb/dandelionimages                                  DandelionImages                                     4GB  2021-02-19 20:03:47            704  \n",
            "mathurinache/twitter-edge-nodes                             Twitter Edge Nodes                                342MB  2021-03-08 06:43:04            686  \n",
            "simiotic/github-code-snippets                               GitHub Code Snippets                                7GB  2021-03-03 11:34:39            244  \n",
            "mathurinache/the-lj-speech-dataset                          The LJ Speech Dataset                               3GB  2021-02-15 09:19:54            258  \n",
            "stuartjames/lights                                          LightS: Light Specularity Dataset                  18GB  2021-02-18 14:32:26            103  \n",
            "landrykezebou/lvzhdr-tone-mapping-benchmark-dataset-tmonet  LVZ-HDR Tone Mapping Benchmark Dataset (TMO-Net)   24GB  2021-03-01 05:03:40            163  \n",
            "imsparsh/accentdb-core-extended                             AccentDB - Core & Extended                          6GB  2021-02-17 14:22:54            122  \n",
            "nickuzmenkov/ranzcr-clip-kfold-tfrecords                    RANZCR CLiP KFold TFRecords                         2GB  2021-02-21 13:29:51            113  \n",
            "datasnaek/youtube-new                                       Trending YouTube Video Statistics                 201MB  2019-06-03 00:56:47         145552  \n",
            "zynicide/wine-reviews                                       Wine Reviews                                       51MB  2017-11-27 17:08:04         141029  \n",
            "residentmario/ramen-ratings                                 Ramen Ratings                                      40KB  2018-01-11 16:04:39          25293  \n",
            "datasnaek/chess                                             Chess Game Dataset (Lichess)                        3MB  2017-09-04 03:09:09          20284  \n"
          ],
          "name": "stdout"
        }
      ]
    },
    {
      "cell_type": "markdown",
      "metadata": {
        "id": "nPsD48-k27Bm"
      },
      "source": [
        "### **Download Required Libraries**"
      ]
    },
    {
      "cell_type": "code",
      "metadata": {
        "colab": {
          "base_uri": "https://localhost:8080/"
        },
        "id": "ehLF5TNJ3Cu-",
        "outputId": "321f0048-3131-41d6-b7d9-f08a45db1fe6"
      },
      "source": [
        "!pip install -U nltk"
      ],
      "execution_count": 3,
      "outputs": [
        {
          "output_type": "stream",
          "text": [
            "Requirement already satisfied: nltk in /usr/local/lib/python3.7/dist-packages (3.2.5)\n",
            "Collecting nltk\n",
            "  Downloading nltk-3.6.2-py3-none-any.whl (1.5 MB)\n",
            "\u001b[K     |████████████████████████████████| 1.5 MB 10.7 MB/s \n",
            "\u001b[?25hRequirement already satisfied: tqdm in /usr/local/lib/python3.7/dist-packages (from nltk) (4.41.1)\n",
            "Requirement already satisfied: click in /usr/local/lib/python3.7/dist-packages (from nltk) (7.1.2)\n",
            "Requirement already satisfied: regex in /usr/local/lib/python3.7/dist-packages (from nltk) (2019.12.20)\n",
            "Requirement already satisfied: joblib in /usr/local/lib/python3.7/dist-packages (from nltk) (1.0.1)\n",
            "Installing collected packages: nltk\n",
            "  Attempting uninstall: nltk\n",
            "    Found existing installation: nltk 3.2.5\n",
            "    Uninstalling nltk-3.2.5:\n",
            "      Successfully uninstalled nltk-3.2.5\n",
            "Successfully installed nltk-3.6.2\n"
          ],
          "name": "stdout"
        }
      ]
    },
    {
      "cell_type": "code",
      "metadata": {
        "colab": {
          "base_uri": "https://localhost:8080/"
        },
        "id": "f-zjbJCR3KrH",
        "outputId": "d35757f6-6332-4ba5-f31e-9c4cc5ac2cfe"
      },
      "source": [
        "import nltk\n",
        "nltk.download('vader_lexicon')"
      ],
      "execution_count": 4,
      "outputs": [
        {
          "output_type": "stream",
          "text": [
            "[nltk_data] Downloading package vader_lexicon to /root/nltk_data...\n"
          ],
          "name": "stderr"
        },
        {
          "output_type": "execute_result",
          "data": {
            "text/plain": [
              "True"
            ]
          },
          "metadata": {
            "tags": []
          },
          "execution_count": 4
        }
      ]
    },
    {
      "cell_type": "markdown",
      "metadata": {
        "id": "ImUJmNYSzfE9"
      },
      "source": [
        "### **Required Libraries**"
      ]
    },
    {
      "cell_type": "code",
      "metadata": {
        "id": "Z_tASG3RziV3"
      },
      "source": [
        "import pandas as pd\n",
        "from nltk.sentiment.vader import SentimentIntensityAnalyzer"
      ],
      "execution_count": 5,
      "outputs": []
    },
    {
      "cell_type": "markdown",
      "metadata": {
        "id": "yyw8bK_8zYja"
      },
      "source": [
        "### **Read Dataset**"
      ]
    },
    {
      "cell_type": "code",
      "metadata": {
        "id": "6HUSb1u-zVPP",
        "colab": {
          "base_uri": "https://localhost:8080/"
        },
        "outputId": "a055a9dd-88c6-49c0-aa53-89a18077c4ba"
      },
      "source": [
        "#Download Dataset as zip file\n",
        "!kaggle datasets download -d arushchillar/disneyland-reviews"
      ],
      "execution_count": 6,
      "outputs": [
        {
          "output_type": "stream",
          "text": [
            "Downloading disneyland-reviews.zip to /content\n",
            " 45% 5.00M/11.1M [00:00<00:00, 22.9MB/s]\n",
            "100% 11.1M/11.1M [00:00<00:00, 31.9MB/s]\n"
          ],
          "name": "stdout"
        }
      ]
    },
    {
      "cell_type": "code",
      "metadata": {
        "id": "IysdYTy4zqsh",
        "colab": {
          "base_uri": "https://localhost:8080/"
        },
        "outputId": "5246bcdc-393e-45b6-c837-c6df94a643f7"
      },
      "source": [
        "#Unzip Dataset zip file\n",
        "!unzip /content/disneyland-reviews.zip"
      ],
      "execution_count": 7,
      "outputs": [
        {
          "output_type": "stream",
          "text": [
            "Archive:  /content/disneyland-reviews.zip\n",
            "  inflating: DisneylandReviews.csv   \n"
          ],
          "name": "stdout"
        }
      ]
    },
    {
      "cell_type": "code",
      "metadata": {
        "colab": {
          "base_uri": "https://localhost:8080/",
          "height": 206
        },
        "id": "cfZ36Yqhz3B2",
        "outputId": "5534766b-f211-4218-9b8e-c0f0dc46ee0d"
      },
      "source": [
        "#Read Dataset\n",
        "data=pd.read_csv(\"/content/DisneylandReviews.csv\",encoding='latin-1')\n",
        "data.head(5)"
      ],
      "execution_count": 8,
      "outputs": [
        {
          "output_type": "execute_result",
          "data": {
            "text/html": [
              "<div>\n",
              "<style scoped>\n",
              "    .dataframe tbody tr th:only-of-type {\n",
              "        vertical-align: middle;\n",
              "    }\n",
              "\n",
              "    .dataframe tbody tr th {\n",
              "        vertical-align: top;\n",
              "    }\n",
              "\n",
              "    .dataframe thead th {\n",
              "        text-align: right;\n",
              "    }\n",
              "</style>\n",
              "<table border=\"1\" class=\"dataframe\">\n",
              "  <thead>\n",
              "    <tr style=\"text-align: right;\">\n",
              "      <th></th>\n",
              "      <th>Review_ID</th>\n",
              "      <th>Rating</th>\n",
              "      <th>Year_Month</th>\n",
              "      <th>Reviewer_Location</th>\n",
              "      <th>Review_Text</th>\n",
              "      <th>Branch</th>\n",
              "    </tr>\n",
              "  </thead>\n",
              "  <tbody>\n",
              "    <tr>\n",
              "      <th>0</th>\n",
              "      <td>670772142</td>\n",
              "      <td>4</td>\n",
              "      <td>2019-4</td>\n",
              "      <td>Australia</td>\n",
              "      <td>If you've ever been to Disneyland anywhere you...</td>\n",
              "      <td>Disneyland_HongKong</td>\n",
              "    </tr>\n",
              "    <tr>\n",
              "      <th>1</th>\n",
              "      <td>670682799</td>\n",
              "      <td>4</td>\n",
              "      <td>2019-5</td>\n",
              "      <td>Philippines</td>\n",
              "      <td>Its been a while since d last time we visit HK...</td>\n",
              "      <td>Disneyland_HongKong</td>\n",
              "    </tr>\n",
              "    <tr>\n",
              "      <th>2</th>\n",
              "      <td>670623270</td>\n",
              "      <td>4</td>\n",
              "      <td>2019-4</td>\n",
              "      <td>United Arab Emirates</td>\n",
              "      <td>Thanks God it wasn   t too hot or too humid wh...</td>\n",
              "      <td>Disneyland_HongKong</td>\n",
              "    </tr>\n",
              "    <tr>\n",
              "      <th>3</th>\n",
              "      <td>670607911</td>\n",
              "      <td>4</td>\n",
              "      <td>2019-4</td>\n",
              "      <td>Australia</td>\n",
              "      <td>HK Disneyland is a great compact park. Unfortu...</td>\n",
              "      <td>Disneyland_HongKong</td>\n",
              "    </tr>\n",
              "    <tr>\n",
              "      <th>4</th>\n",
              "      <td>670607296</td>\n",
              "      <td>4</td>\n",
              "      <td>2019-4</td>\n",
              "      <td>United Kingdom</td>\n",
              "      <td>the location is not in the city, took around 1...</td>\n",
              "      <td>Disneyland_HongKong</td>\n",
              "    </tr>\n",
              "  </tbody>\n",
              "</table>\n",
              "</div>"
            ],
            "text/plain": [
              "   Review_ID  ...               Branch\n",
              "0  670772142  ...  Disneyland_HongKong\n",
              "1  670682799  ...  Disneyland_HongKong\n",
              "2  670623270  ...  Disneyland_HongKong\n",
              "3  670607911  ...  Disneyland_HongKong\n",
              "4  670607296  ...  Disneyland_HongKong\n",
              "\n",
              "[5 rows x 6 columns]"
            ]
          },
          "metadata": {
            "tags": []
          },
          "execution_count": 8
        }
      ]
    },
    {
      "cell_type": "markdown",
      "metadata": {
        "id": "lGp3OIpt0hUo"
      },
      "source": [
        "### **Dataset Overview**"
      ]
    },
    {
      "cell_type": "code",
      "metadata": {
        "colab": {
          "base_uri": "https://localhost:8080/"
        },
        "id": "u24MlMEI0AS9",
        "outputId": "f552060b-792f-4dc0-fdc8-7d845ad6764c"
      },
      "source": [
        "rows,cols=data.shape\n",
        "print(\"Rows:\",rows,\"Cols:\",cols)"
      ],
      "execution_count": 9,
      "outputs": [
        {
          "output_type": "stream",
          "text": [
            "Rows: 42656 Cols: 6\n"
          ],
          "name": "stdout"
        }
      ]
    },
    {
      "cell_type": "code",
      "metadata": {
        "colab": {
          "base_uri": "https://localhost:8080/"
        },
        "id": "D48wL7Vj0xL2",
        "outputId": "25bbaff3-4dd5-4a63-da13-13fe00eeff37"
      },
      "source": [
        "data.info()"
      ],
      "execution_count": 10,
      "outputs": [
        {
          "output_type": "stream",
          "text": [
            "<class 'pandas.core.frame.DataFrame'>\n",
            "RangeIndex: 42656 entries, 0 to 42655\n",
            "Data columns (total 6 columns):\n",
            " #   Column             Non-Null Count  Dtype \n",
            "---  ------             --------------  ----- \n",
            " 0   Review_ID          42656 non-null  int64 \n",
            " 1   Rating             42656 non-null  int64 \n",
            " 2   Year_Month         42656 non-null  object\n",
            " 3   Reviewer_Location  42656 non-null  object\n",
            " 4   Review_Text        42656 non-null  object\n",
            " 5   Branch             42656 non-null  object\n",
            "dtypes: int64(2), object(4)\n",
            "memory usage: 2.0+ MB\n"
          ],
          "name": "stdout"
        }
      ]
    },
    {
      "cell_type": "code",
      "metadata": {
        "colab": {
          "base_uri": "https://localhost:8080/",
          "height": 300
        },
        "id": "RuMzyK540rj4",
        "outputId": "e6d04eef-f184-48a4-fdc4-ade1304b6d27"
      },
      "source": [
        "data.describe()"
      ],
      "execution_count": 11,
      "outputs": [
        {
          "output_type": "execute_result",
          "data": {
            "text/html": [
              "<div>\n",
              "<style scoped>\n",
              "    .dataframe tbody tr th:only-of-type {\n",
              "        vertical-align: middle;\n",
              "    }\n",
              "\n",
              "    .dataframe tbody tr th {\n",
              "        vertical-align: top;\n",
              "    }\n",
              "\n",
              "    .dataframe thead th {\n",
              "        text-align: right;\n",
              "    }\n",
              "</style>\n",
              "<table border=\"1\" class=\"dataframe\">\n",
              "  <thead>\n",
              "    <tr style=\"text-align: right;\">\n",
              "      <th></th>\n",
              "      <th>Review_ID</th>\n",
              "      <th>Rating</th>\n",
              "    </tr>\n",
              "  </thead>\n",
              "  <tbody>\n",
              "    <tr>\n",
              "      <th>count</th>\n",
              "      <td>4.265600e+04</td>\n",
              "      <td>42656.000000</td>\n",
              "    </tr>\n",
              "    <tr>\n",
              "      <th>mean</th>\n",
              "      <td>3.188553e+08</td>\n",
              "      <td>4.217695</td>\n",
              "    </tr>\n",
              "    <tr>\n",
              "      <th>std</th>\n",
              "      <td>1.657092e+08</td>\n",
              "      <td>1.063371</td>\n",
              "    </tr>\n",
              "    <tr>\n",
              "      <th>min</th>\n",
              "      <td>1.398724e+06</td>\n",
              "      <td>1.000000</td>\n",
              "    </tr>\n",
              "    <tr>\n",
              "      <th>25%</th>\n",
              "      <td>1.743274e+08</td>\n",
              "      <td>4.000000</td>\n",
              "    </tr>\n",
              "    <tr>\n",
              "      <th>50%</th>\n",
              "      <td>2.907583e+08</td>\n",
              "      <td>5.000000</td>\n",
              "    </tr>\n",
              "    <tr>\n",
              "      <th>75%</th>\n",
              "      <td>4.489579e+08</td>\n",
              "      <td>5.000000</td>\n",
              "    </tr>\n",
              "    <tr>\n",
              "      <th>max</th>\n",
              "      <td>6.708014e+08</td>\n",
              "      <td>5.000000</td>\n",
              "    </tr>\n",
              "  </tbody>\n",
              "</table>\n",
              "</div>"
            ],
            "text/plain": [
              "          Review_ID        Rating\n",
              "count  4.265600e+04  42656.000000\n",
              "mean   3.188553e+08      4.217695\n",
              "std    1.657092e+08      1.063371\n",
              "min    1.398724e+06      1.000000\n",
              "25%    1.743274e+08      4.000000\n",
              "50%    2.907583e+08      5.000000\n",
              "75%    4.489579e+08      5.000000\n",
              "max    6.708014e+08      5.000000"
            ]
          },
          "metadata": {
            "tags": []
          },
          "execution_count": 11
        }
      ]
    },
    {
      "cell_type": "markdown",
      "metadata": {
        "id": "ncqvp6402WH1"
      },
      "source": [
        "### **Prepare Dataset**"
      ]
    },
    {
      "cell_type": "code",
      "metadata": {
        "colab": {
          "base_uri": "https://localhost:8080/",
          "height": 206
        },
        "id": "50jMnyqJ2AvF",
        "outputId": "6afcd9d7-00bc-4384-bc7a-1005272d3434"
      },
      "source": [
        "reviews=data[[\"Review_ID\",\"Review_Text\"]]\n",
        "reviews.head(5)"
      ],
      "execution_count": 23,
      "outputs": [
        {
          "output_type": "execute_result",
          "data": {
            "text/html": [
              "<div>\n",
              "<style scoped>\n",
              "    .dataframe tbody tr th:only-of-type {\n",
              "        vertical-align: middle;\n",
              "    }\n",
              "\n",
              "    .dataframe tbody tr th {\n",
              "        vertical-align: top;\n",
              "    }\n",
              "\n",
              "    .dataframe thead th {\n",
              "        text-align: right;\n",
              "    }\n",
              "</style>\n",
              "<table border=\"1\" class=\"dataframe\">\n",
              "  <thead>\n",
              "    <tr style=\"text-align: right;\">\n",
              "      <th></th>\n",
              "      <th>Review_ID</th>\n",
              "      <th>Review_Text</th>\n",
              "    </tr>\n",
              "  </thead>\n",
              "  <tbody>\n",
              "    <tr>\n",
              "      <th>0</th>\n",
              "      <td>670772142</td>\n",
              "      <td>If you've ever been to Disneyland anywhere you...</td>\n",
              "    </tr>\n",
              "    <tr>\n",
              "      <th>1</th>\n",
              "      <td>670682799</td>\n",
              "      <td>Its been a while since d last time we visit HK...</td>\n",
              "    </tr>\n",
              "    <tr>\n",
              "      <th>2</th>\n",
              "      <td>670623270</td>\n",
              "      <td>Thanks God it wasn   t too hot or too humid wh...</td>\n",
              "    </tr>\n",
              "    <tr>\n",
              "      <th>3</th>\n",
              "      <td>670607911</td>\n",
              "      <td>HK Disneyland is a great compact park. Unfortu...</td>\n",
              "    </tr>\n",
              "    <tr>\n",
              "      <th>4</th>\n",
              "      <td>670607296</td>\n",
              "      <td>the location is not in the city, took around 1...</td>\n",
              "    </tr>\n",
              "  </tbody>\n",
              "</table>\n",
              "</div>"
            ],
            "text/plain": [
              "   Review_ID                                        Review_Text\n",
              "0  670772142  If you've ever been to Disneyland anywhere you...\n",
              "1  670682799  Its been a while since d last time we visit HK...\n",
              "2  670623270  Thanks God it wasn   t too hot or too humid wh...\n",
              "3  670607911  HK Disneyland is a great compact park. Unfortu...\n",
              "4  670607296  the location is not in the city, took around 1..."
            ]
          },
          "metadata": {
            "tags": []
          },
          "execution_count": 23
        }
      ]
    },
    {
      "cell_type": "markdown",
      "metadata": {
        "id": "qnSX21U43T1P"
      },
      "source": [
        "### **A Quick Example using VADER**"
      ]
    },
    {
      "cell_type": "code",
      "metadata": {
        "colab": {
          "base_uri": "https://localhost:8080/",
          "height": 72
        },
        "id": "twjjI4gC3YMr",
        "outputId": "a02b294e-128d-435b-b28e-204af8ea5061"
      },
      "source": [
        "rev=reviews['Review_Text'][0]\n",
        "rev"
      ],
      "execution_count": 24,
      "outputs": [
        {
          "output_type": "execute_result",
          "data": {
            "application/vnd.google.colaboratory.intrinsic+json": {
              "type": "string"
            },
            "text/plain": [
              "\"If you've ever been to Disneyland anywhere you'll find Disneyland Hong Kong very similar in the layout when you walk into main street! It has a very familiar feel. One of the rides  its a Small World  is absolutely fabulous and worth doing. The day we visited was fairly hot and relatively busy but the queues moved fairly well. \""
            ]
          },
          "metadata": {
            "tags": []
          },
          "execution_count": 24
        }
      ]
    },
    {
      "cell_type": "code",
      "metadata": {
        "id": "uMgGKZzM3hcj"
      },
      "source": [
        "analyzer=SentimentIntensityAnalyzer()"
      ],
      "execution_count": 25,
      "outputs": []
    },
    {
      "cell_type": "code",
      "metadata": {
        "colab": {
          "base_uri": "https://localhost:8080/"
        },
        "id": "oo0D6vkY3sd6",
        "outputId": "0f944253-da2f-4566-b163-9558ff403316"
      },
      "source": [
        "analyzer.polarity_scores(rev)"
      ],
      "execution_count": 26,
      "outputs": [
        {
          "output_type": "execute_result",
          "data": {
            "text/plain": [
              "{'compound': 0.7069, 'neg': 0.0, 'neu': 0.887, 'pos': 0.113}"
            ]
          },
          "metadata": {
            "tags": []
          },
          "execution_count": 26
        }
      ]
    },
    {
      "cell_type": "markdown",
      "metadata": {
        "id": "KNa50DA231rB"
      },
      "source": [
        "* Pos: Positive Review Degree\n",
        "* Neg: Negative Review Degree\n",
        "* Neu: Neutral Review Degree\n",
        "* Compound: It ranges from -1(very negative) to +1(very positive). "
      ]
    },
    {
      "cell_type": "markdown",
      "metadata": {
        "id": "M8JNsmbX4oLY"
      },
      "source": [
        "### **For All Reviews**"
      ]
    },
    {
      "cell_type": "code",
      "metadata": {
        "id": "Jzqiu2UA4rhz"
      },
      "source": [
        "body=reviews.Review_Text\n",
        "neg,neu,pos,compound=[],[],[],[]\n",
        "for review in body:\n",
        "  res=analyzer.polarity_scores(str(review))\n",
        "  neg.append(res['neg'])\n",
        "  neu.append(res['neu'])\n",
        "  pos.append(res['pos'])\n",
        "  compound.append(res['compound'])\n",
        "  "
      ],
      "execution_count": 27,
      "outputs": []
    },
    {
      "cell_type": "markdown",
      "metadata": {
        "id": "flCJV1yo5WwW"
      },
      "source": [
        "### **Append Results to Reviews Dataframe**"
      ]
    },
    {
      "cell_type": "code",
      "metadata": {
        "colab": {
          "base_uri": "https://localhost:8080/",
          "height": 206
        },
        "id": "BNn708uM5Uu0",
        "outputId": "0fcb523c-f5e1-40e7-8196-60799dd50c3b"
      },
      "source": [
        "reviews[\"Negative\"]=neg\n",
        "reviews[\"Neutral\"]=neu\n",
        "reviews[\"Positive\"]=pos\n",
        "reviews[\"Compound\"]=compound\n",
        "reviews.head(5)"
      ],
      "execution_count": 29,
      "outputs": [
        {
          "output_type": "execute_result",
          "data": {
            "text/html": [
              "<div>\n",
              "<style scoped>\n",
              "    .dataframe tbody tr th:only-of-type {\n",
              "        vertical-align: middle;\n",
              "    }\n",
              "\n",
              "    .dataframe tbody tr th {\n",
              "        vertical-align: top;\n",
              "    }\n",
              "\n",
              "    .dataframe thead th {\n",
              "        text-align: right;\n",
              "    }\n",
              "</style>\n",
              "<table border=\"1\" class=\"dataframe\">\n",
              "  <thead>\n",
              "    <tr style=\"text-align: right;\">\n",
              "      <th></th>\n",
              "      <th>Review_ID</th>\n",
              "      <th>Review_Text</th>\n",
              "      <th>Negative</th>\n",
              "      <th>Neutral</th>\n",
              "      <th>Positive</th>\n",
              "      <th>Compound</th>\n",
              "    </tr>\n",
              "  </thead>\n",
              "  <tbody>\n",
              "    <tr>\n",
              "      <th>0</th>\n",
              "      <td>670772142</td>\n",
              "      <td>If you've ever been to Disneyland anywhere you...</td>\n",
              "      <td>0.000</td>\n",
              "      <td>0.887</td>\n",
              "      <td>0.113</td>\n",
              "      <td>0.7069</td>\n",
              "    </tr>\n",
              "    <tr>\n",
              "      <th>1</th>\n",
              "      <td>670682799</td>\n",
              "      <td>Its been a while since d last time we visit HK...</td>\n",
              "      <td>0.040</td>\n",
              "      <td>0.730</td>\n",
              "      <td>0.231</td>\n",
              "      <td>0.9901</td>\n",
              "    </tr>\n",
              "    <tr>\n",
              "      <th>2</th>\n",
              "      <td>670623270</td>\n",
              "      <td>Thanks God it wasn   t too hot or too humid wh...</td>\n",
              "      <td>0.024</td>\n",
              "      <td>0.742</td>\n",
              "      <td>0.235</td>\n",
              "      <td>0.9920</td>\n",
              "    </tr>\n",
              "    <tr>\n",
              "      <th>3</th>\n",
              "      <td>670607911</td>\n",
              "      <td>HK Disneyland is a great compact park. Unfortu...</td>\n",
              "      <td>0.080</td>\n",
              "      <td>0.760</td>\n",
              "      <td>0.160</td>\n",
              "      <td>0.8489</td>\n",
              "    </tr>\n",
              "    <tr>\n",
              "      <th>4</th>\n",
              "      <td>670607296</td>\n",
              "      <td>the location is not in the city, took around 1...</td>\n",
              "      <td>0.000</td>\n",
              "      <td>0.899</td>\n",
              "      <td>0.101</td>\n",
              "      <td>0.2846</td>\n",
              "    </tr>\n",
              "  </tbody>\n",
              "</table>\n",
              "</div>"
            ],
            "text/plain": [
              "   Review_ID  ... Compound\n",
              "0  670772142  ...   0.7069\n",
              "1  670682799  ...   0.9901\n",
              "2  670623270  ...   0.9920\n",
              "3  670607911  ...   0.8489\n",
              "4  670607296  ...   0.2846\n",
              "\n",
              "[5 rows x 6 columns]"
            ]
          },
          "metadata": {
            "tags": []
          },
          "execution_count": 29
        }
      ]
    },
    {
      "cell_type": "markdown",
      "metadata": {
        "id": "RMMe4n_O501y"
      },
      "source": [
        "### **Assigning Sentiment Tag**"
      ]
    },
    {
      "cell_type": "code",
      "metadata": {
        "id": "2WGvtIwu5w8n"
      },
      "source": [
        "tag=[]\n",
        "for i in range(len(reviews)):\n",
        "  winning_val=max(neg[i],pos[i])\n",
        "  if(neg[i]==winning_val):\n",
        "    tag.append(\"Negative\")\n",
        "  elif(pos[i]==winning_val):\n",
        "    tag.append(\"Positive\")"
      ],
      "execution_count": 30,
      "outputs": []
    },
    {
      "cell_type": "code",
      "metadata": {
        "id": "W4sSUeU16hj5"
      },
      "source": [
        "reviews[\"Sentiment_Tag\"]=tag"
      ],
      "execution_count": 31,
      "outputs": []
    },
    {
      "cell_type": "markdown",
      "metadata": {
        "id": "d-gLUo306omM"
      },
      "source": [
        "### **Final Result**"
      ]
    },
    {
      "cell_type": "code",
      "metadata": {
        "colab": {
          "base_uri": "https://localhost:8080/",
          "height": 206
        },
        "id": "EPSYTcPV6u1K",
        "outputId": "825e8885-c8f8-4d3c-e170-e55a795e9c7b"
      },
      "source": [
        "reviews.sample(5)"
      ],
      "execution_count": 32,
      "outputs": [
        {
          "output_type": "execute_result",
          "data": {
            "text/html": [
              "<div>\n",
              "<style scoped>\n",
              "    .dataframe tbody tr th:only-of-type {\n",
              "        vertical-align: middle;\n",
              "    }\n",
              "\n",
              "    .dataframe tbody tr th {\n",
              "        vertical-align: top;\n",
              "    }\n",
              "\n",
              "    .dataframe thead th {\n",
              "        text-align: right;\n",
              "    }\n",
              "</style>\n",
              "<table border=\"1\" class=\"dataframe\">\n",
              "  <thead>\n",
              "    <tr style=\"text-align: right;\">\n",
              "      <th></th>\n",
              "      <th>Review_ID</th>\n",
              "      <th>Review_Text</th>\n",
              "      <th>Negative</th>\n",
              "      <th>Neutral</th>\n",
              "      <th>Positive</th>\n",
              "      <th>Compound</th>\n",
              "      <th>Sentiment_Tag</th>\n",
              "    </tr>\n",
              "  </thead>\n",
              "  <tbody>\n",
              "    <tr>\n",
              "      <th>29314</th>\n",
              "      <td>647199345</td>\n",
              "      <td>Disneyland paris is one of the biggest one in ...</td>\n",
              "      <td>0.000</td>\n",
              "      <td>1.000</td>\n",
              "      <td>0.000</td>\n",
              "      <td>0.0000</td>\n",
              "      <td>Negative</td>\n",
              "    </tr>\n",
              "    <tr>\n",
              "      <th>3463</th>\n",
              "      <td>417334514</td>\n",
              "      <td>This was my first visit to any Disneyland and ...</td>\n",
              "      <td>0.024</td>\n",
              "      <td>0.721</td>\n",
              "      <td>0.255</td>\n",
              "      <td>0.9876</td>\n",
              "      <td>Positive</td>\n",
              "    </tr>\n",
              "    <tr>\n",
              "      <th>22536</th>\n",
              "      <td>195565444</td>\n",
              "      <td>Disneyland was wonderful. We spent 2 days, 1 i...</td>\n",
              "      <td>0.000</td>\n",
              "      <td>0.578</td>\n",
              "      <td>0.422</td>\n",
              "      <td>0.9551</td>\n",
              "      <td>Positive</td>\n",
              "    </tr>\n",
              "    <tr>\n",
              "      <th>15841</th>\n",
              "      <td>363989590</td>\n",
              "      <td>DL has a charm all of its own. A great little ...</td>\n",
              "      <td>0.000</td>\n",
              "      <td>0.661</td>\n",
              "      <td>0.339</td>\n",
              "      <td>0.9251</td>\n",
              "      <td>Positive</td>\n",
              "    </tr>\n",
              "    <tr>\n",
              "      <th>21393</th>\n",
              "      <td>219859143</td>\n",
              "      <td>Disneyland was busy but else what do you expec...</td>\n",
              "      <td>0.000</td>\n",
              "      <td>0.877</td>\n",
              "      <td>0.123</td>\n",
              "      <td>0.7351</td>\n",
              "      <td>Positive</td>\n",
              "    </tr>\n",
              "  </tbody>\n",
              "</table>\n",
              "</div>"
            ],
            "text/plain": [
              "       Review_ID  ... Sentiment_Tag\n",
              "29314  647199345  ...      Negative\n",
              "3463   417334514  ...      Positive\n",
              "22536  195565444  ...      Positive\n",
              "15841  363989590  ...      Positive\n",
              "21393  219859143  ...      Positive\n",
              "\n",
              "[5 rows x 7 columns]"
            ]
          },
          "metadata": {
            "tags": []
          },
          "execution_count": 32
        }
      ]
    },
    {
      "cell_type": "code",
      "metadata": {
        "colab": {
          "base_uri": "https://localhost:8080/"
        },
        "id": "PYkxBLBl6zIX",
        "outputId": "b2940106-e200-42a7-9b39-7aa057ca0c20"
      },
      "source": [
        "tt=len(reviews)\n",
        "pp=reviews[\"Sentiment_Tag\"][reviews[\"Sentiment_Tag\"]==\"Positive\"].count()\n",
        "nn=reviews[\"Sentiment_Tag\"][reviews[\"Sentiment_Tag\"]==\"Negative\"].count()\n",
        "\n",
        "print(\"Number of Reviews:\",tt)\n",
        "print(\"Number of Positive Reviews:\",pp)\n",
        "print(\"Number of Negative Reviews:\",nn)"
      ],
      "execution_count": 21,
      "outputs": [
        {
          "output_type": "stream",
          "text": [
            "Number of Reviews: 42656\n",
            "Number of Positive Reviews: 37761\n",
            "Number of Negative Reviews: 4895\n"
          ],
          "name": "stdout"
        }
      ]
    },
    {
      "cell_type": "markdown",
      "metadata": {
        "id": "Z-ueWkQW9m6E"
      },
      "source": [
        "### **Download Results as CSV File**"
      ]
    },
    {
      "cell_type": "code",
      "metadata": {
        "id": "OcS_Hnh89sR6"
      },
      "source": [
        "reviews.to_csv(\"Result_Disneyland_Reviews.csv\")"
      ],
      "execution_count": 22,
      "outputs": []
    },
    {
      "cell_type": "markdown",
      "metadata": {
        "id": "Va8MugyV96az"
      },
      "source": [
        "**Further Reading:** https://www.codeproject.com/Articles/5269445/Using-Pre-trained-VADER-Models-for-NLTK-Sentiment "
      ]
    }
  ]
}